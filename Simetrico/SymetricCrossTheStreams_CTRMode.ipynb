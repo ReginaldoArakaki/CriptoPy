{
  "nbformat": 4,
  "nbformat_minor": 0,
  "metadata": {
    "colab": {
      "provenance": []
    },
    "kernelspec": {
      "name": "python3",
      "display_name": "Python 3"
    },
    "language_info": {
      "name": "python"
    }
  },
  "cells": [
    {
      "cell_type": "markdown",
      "source": [
        "# **Cross the Streams **\n",
        "\n",
        "Counter mode has a number of advantages to CBC mode and, in our opinion, is significantly easier to understand than CBC mode. Also, while CTR is the traditional abbreviation, “CM” is a really nice set of initials. Although simple, the concept behind this mode can be a little counter-intuitive at first (yup). In CTR mode, you actually never use AES for encryption or decryption of the data. Instead, this mode generates a key stream that is the same length as the plaintext and then uses XOR to combine them together. Recall from earlier exercises in this chapter that XOR can be used to “mask” plaintext data by combining it with random data. The previous exercise masked 16 bytes of plaintext with 16 bytes of random data. This is a real form of encryption called a “one-time pad” (OTP) [11, Chap. 6]. It works great but requires that the key is the same size as the plaintext. We don’t have the space here to explore the OTP further; the important concept is that using XOR to combine plaintext and random data is a great way to create ciphertext. AES-CTR mimics this aspect of OTP. But instead of requiring the key to be the same size as the plaintext (a real pain when encrypting a 1TB file), it uses AES and a counter to generate a key stream of almost arbitrary length from an AES key as small as 128 bits. To do this, CTR mode uses AES to encrypt a 16-byte counter, which generates 16 bytes of key stream. To get 16 more bytes of key stream, the mode increases the counter by one and encrypts the updated 16 bytes. By continually increasing the counter and encrypting the result, CTR mode can produce an almost arbitrary amount of key stream material.11 Once a sufficient amount of key material is generated, the XOR operation is used to combine them together to produce the ciphertext.\n",
        "\n",
        "Nielson, Seth James; Monson, Christopher K.. Practical Cryptography in Python: Learning Correct Cryptography by Example (pp. 122-123). Apress. Edição do Kindle."
      ],
      "metadata": {
        "id": "wH3KeVsCcW3n"
      }
    },
    {
      "cell_type": "markdown",
      "source": [],
      "metadata": {
        "id": "ykzkCN7lcTGf"
      }
    },
    {
      "cell_type": "code",
      "source": [
        "from cryptography.hazmat.primitives.ciphers import Cipher, algorithms, modes\n",
        "from cryptography.hazmat.backends import default_backend\n",
        "\n",
        "\n",
        "import os\n",
        "\n",
        "class EncryptionManager:\n",
        "  def __init__(self):\n",
        "      key = os.urandom(32)\n",
        "      nonce = os.urandom(16)\n",
        "      aes_context = Cipher(algorithms.AES(key),\n",
        "                           modes.CTR(nonce),\n",
        "                           backend=default_backend())\n",
        "      self.encryptor = aes_context.encryptor()\n",
        "      self.decryptor = aes_context.decryptor()\n",
        "\n",
        "  def updateEncryptor(self, plaintext):\n",
        "      return self.encryptor.update(plaintext)\n",
        "\n",
        "  def finalizeEncryptor(self):\n",
        "      return self.encryptor.finalize()\n",
        "\n",
        "  def updateDecryptor(self, ciphertext):\n",
        "      return self.decryptor.update(ciphertext)\n",
        "\n",
        "  def finalizeDecryptor(self):\n",
        "      return self.decryptor.finalize()\n",
        "\n",
        "# Auto generate key/IV for encryption\n",
        "\n",
        "\n",
        "manager = EncryptionManager()\n",
        "plaintexts = [\n",
        "    b\"SHORT\",\n",
        "    b\"MEDIUM MEDIUM MEDIUM\",\n",
        "    b\"LONG LONG LONG LONG LONG LONG\"\n",
        "    ]\n",
        "\n",
        "ciphertexts = []\n",
        "for m in plaintexts:\n",
        "    ciphertexts.append(manager.updateEncryptor(m))\n",
        "\n",
        "ciphertexts.append(manager.finalizeEncryptor())\n",
        "\n",
        "for c in ciphertexts:\n",
        "    print(\"Recovered\", manager.updateDecryptor(c))\n",
        "\n",
        "print(\"Recovered\", manager.finalizeDecryptor())\n",
        "\n",
        "\n",
        "# Nielson, Seth James; Monson, Christopher K..\n",
        "# Practical Cryptography in Python: Learning Correct Cryptography by Example (p. 127).\n",
        "# Apress. Edição do Kindle."
      ],
      "metadata": {
        "colab": {
          "base_uri": "https://localhost:8080/"
        },
        "id": "4Ylh5Rbtbt4i",
        "outputId": "3d4a25d4-09fc-43d9-c93e-1a03fd5ae143"
      },
      "execution_count": 8,
      "outputs": [
        {
          "output_type": "stream",
          "name": "stdout",
          "text": [
            "Recovered b'SHORT'\n",
            "Recovered b'MEDIUM MEDIUM MEDIUM'\n",
            "Recovered b'LONG LONG LONG LONG LONG LONG'\n",
            "Recovered b''\n",
            "Recovered b''\n"
          ]
        }
      ]
    }
  ]
}