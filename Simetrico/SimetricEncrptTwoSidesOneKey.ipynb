{
  "nbformat": 4,
  "nbformat_minor": 0,
  "metadata": {
    "colab": {
      "provenance": []
    },
    "kernelspec": {
      "name": "python3",
      "display_name": "Python 3"
    },
    "language_info": {
      "name": "python"
    }
  },
  "cells": [
    {
      "cell_type": "code",
      "execution_count": 1,
      "metadata": {
        "id": "6Er_w9cVkYlo"
      },
      "outputs": [],
      "source": [
        "# Nielson, Seth James; Monson, Christopher K..\n",
        "# Practical Cryptography in Python: Learning Correct Cryptography by Example (p. 23).\n",
        "# Apress. Edição do Kindle.\n",
        "#\n",
        "# Simetric Encript\n",
        "# ECP - Not Secure"
      ]
    },
    {
      "cell_type": "code",
      "source": [
        "# NEVER USE: ECB is not secure!\n",
        "from cryptography.hazmat.primitives.ciphers import Cipher, algorithms, modes\n",
        "from cryptography.hazmat.backends import default_backend\n",
        "import os\n",
        "\n",
        "key = os.urandom(16)\n",
        "\n",
        "aesCipher = Cipher(algorithms.AES(key),\n",
        "                   modes.ECB(),\n",
        "                   backend=default_backend())\n",
        "\n",
        "aesEncryptor = aesCipher.encryptor()\n",
        "aesDecryptor = aesCipher.decryptor()\n",
        "\n",
        "# Nielson, Seth James; Monson, Christopher K..\n",
        "# Practical Cryptography in Python: Learning Correct Cryptography by Example (p. 83).\n",
        "# Apress. Edição do Kindle."
      ],
      "metadata": {
        "id": "tjevDnZ1kfvM"
      },
      "execution_count": 21,
      "outputs": []
    },
    {
      "cell_type": "code",
      "source": [
        "aesEncryptor.update(b'alice')\n",
        "aesEncryptor.update(b'bob')\n",
        "aesEncryptor.update(b'bob')\n",
        "aesEncryptor.update(b'bob')\n",
        "aesEncryptor.update(b'bob')\n",
        "#aesEncryptor.finalize()\n",
        "#\n",
        "#aesDecryptor.update()\n"
      ],
      "metadata": {
        "colab": {
          "base_uri": "https://localhost:8080/"
        },
        "id": "0bxe_rlxlUZv",
        "outputId": "1fbd976b-cce5-46ce-8f1b-a01f2ee9ca3f"
      },
      "execution_count": 22,
      "outputs": [
        {
          "output_type": "execute_result",
          "data": {
            "text/plain": [
              "b'R\\xdc\\xc8\\xc2i\\xc2\\x81;\\x9ckj\\xedu\\xb5\"\\x94'"
            ]
          },
          "metadata": {},
          "execution_count": 22
        }
      ]
    },
    {
      "cell_type": "code",
      "source": [
        "aesDecryptor.update(_)"
      ],
      "metadata": {
        "colab": {
          "base_uri": "https://localhost:8080/"
        },
        "id": "ET0C8-vazMEL",
        "outputId": "32fbcd81-db28-4d53-f081-d73f3b4e7613"
      },
      "execution_count": 23,
      "outputs": [
        {
          "output_type": "execute_result",
          "data": {
            "text/plain": [
              "b'alicebobbobbobbo'"
            ]
          },
          "metadata": {},
          "execution_count": 23
        }
      ]
    }
  ]
}