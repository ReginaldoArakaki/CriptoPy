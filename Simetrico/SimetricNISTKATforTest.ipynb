{
  "nbformat": 4,
  "nbformat_minor": 0,
  "metadata": {
    "colab": {
      "provenance": []
    },
    "kernelspec": {
      "name": "python3",
      "display_name": "Python 3"
    },
    "language_info": {
      "name": "python"
    }
  },
  "cells": [
    {
      "cell_type": "code",
      "execution_count": 1,
      "metadata": {
        "id": "6Er_w9cVkYlo"
      },
      "outputs": [],
      "source": [
        "# Nielson, Seth James; Monson, Christopher K..\n",
        "# Practical Cryptography in Python: Learning Correct Cryptography by Example (p. 23).\n",
        "# Apress. Edição do Kindle.\n",
        "# KATs from https://csrc.nist.gov/CSRC/media/Projects/Cryptographic-Algorithm-Validation-Program/documents/aes/KAT_AES.zip.\n",
        "# ECB - Not Secure\n",
        "# KAT - Known answer tests"
      ]
    },
    {
      "cell_type": "code",
      "source": [
        "# NEVER USE: ECB is not secure!\n",
        "from cryptography.hazmat.primitives.ciphers import Cipher, algorithms, modes\n",
        "from cryptography.hazmat.backends import default_backend\n",
        "# NIST AES ECBGFSbox128.rsp ENCRYPT Kats\n",
        "# First value of each pair is plaintext\n",
        "# Second value of each pair is ciphertext\n",
        "nist_kats = [\n",
        "    ('f34481ec3cc627bacd5dc3fb08f273e6', '0336763e966d92595a567cc9ce537f5e'),\n",
        "    ('9798c4640bad75c7c3227db910174e72', 'a9a1631bf4996954ebc093957b234589'),\n",
        "    ('96ab5c2ff612d9dfaae8c31f30c42168', 'ff4f8391a6a40ca5b25d23bedd44a597'),\n",
        "    ('6a118a874519e64e9963798a503f1d35 ', 'dc43be40be0e53712f7e2bf5ca707209')\n",
        "    ]\n",
        "\n",
        "# 16–byte test key of all zeros.\n",
        "test_key = bytes.fromhex('00000000000000000000000000000000')\n",
        "aesCipher = Cipher(algorithms.AES(test_key),\n",
        "                   modes.ECB(),\n",
        "                   backend=default_backend())\n",
        "aesEncryptor = aesCipher.encryptor()\n",
        "aesDecryptor = aesCipher.decryptor()\n",
        "# test each input\n",
        "for index, kat in enumerate(nist_kats):\n",
        "    plaintext, want_ciphertext = kat\n",
        "    plaintext_bytes = bytes.fromhex(plaintext)\n",
        "    ciphertext_bytes = aesEncryptor.update(plaintext_bytes)\n",
        "    got_ciphertext = ciphertext_bytes.hex()\n",
        "    result = \"[PASS]\" if got_ciphertext == want_ciphertext else \"[FAIL]\"\n",
        "    print(\"Test {}. Expected {}, got {}. Result {}.\".format(\n",
        "            index, want_ciphertext, got_ciphertext, result))\n",
        "\n"
      ],
      "metadata": {
        "colab": {
          "base_uri": "https://localhost:8080/"
        },
        "id": "DFI5kYMo3hKw",
        "outputId": "2b34bd84-c701-4f6f-f2f9-1c7830e3dbac"
      },
      "execution_count": 28,
      "outputs": [
        {
          "output_type": "stream",
          "name": "stdout",
          "text": [
            "Test 0. Expected 0336763e966d92595a567cc9ce537f5e, got 0336763e966d92595a567cc9ce537f5e. Result [PASS].\n",
            "Test 1. Expected a9a1631bf4996954ebc093957b234589, got a9a1631bf4996954ebc093957b234589. Result [PASS].\n",
            "Test 2. Expected ff4f8391a6a40ca5b25d23bedd44a597, got ff4f8391a6a40ca5b25d23bedd44a597. Result [PASS].\n",
            "Test 3. Expected dc43be40be0e53712f7e2bf5ca707209, got dc43be40be0e53712f7e2bf5ca707209. Result [PASS].\n"
          ]
        }
      ]
    },
    {
      "cell_type": "code",
      "source": [
        "# 16–byte test key of all zeros.\n",
        "test_key = bytes.fromhex('00000000000000000000000000000011')\n",
        "aesCipher = Cipher(algorithms.AES(test_key),\n",
        "                   modes.ECB(),\n",
        "                   backend=default_backend())\n",
        "aesEncryptor = aesCipher.encryptor()\n",
        "aesDecryptor = aesCipher.decryptor()\n",
        "# test each input\n",
        "for index, kat in enumerate(nist_kats):\n",
        "    plaintext, want_ciphertext = kat\n",
        "    plaintext_bytes = bytes.fromhex(plaintext)\n",
        "    ciphertext_bytes = aesEncryptor.update(plaintext_bytes)\n",
        "    got_ciphertext = ciphertext_bytes.hex()\n",
        "    result = \"[PASS]\" if got_ciphertext == want_ciphertext else \"[FAIL]\"\n",
        "    print(\"Test {}. Expected {}, got {}. Result {}.\".format(\n",
        "            index, want_ciphertext, got_ciphertext, result))\n",
        "\n"
      ],
      "metadata": {
        "id": "BukoagZm5OWJ",
        "outputId": "bb929956-79ab-4e3c-95a2-69296e4144d3",
        "colab": {
          "base_uri": "https://localhost:8080/"
        }
      },
      "execution_count": 29,
      "outputs": [
        {
          "output_type": "stream",
          "name": "stdout",
          "text": [
            "Test 0. Expected 0336763e966d92595a567cc9ce537f5e, got ab34bef1bdb4e2c98e3759929c067f79. Result [FAIL].\n",
            "Test 1. Expected a9a1631bf4996954ebc093957b234589, got b0ae09b3892a958c12148ebb8ddcb379. Result [FAIL].\n",
            "Test 2. Expected ff4f8391a6a40ca5b25d23bedd44a597, got f228a59f5702ed6bb4caba9ee34a030b. Result [FAIL].\n",
            "Test 3. Expected dc43be40be0e53712f7e2bf5ca707209, got be2c431ddd3743e5df17a3d40ee1300a. Result [FAIL].\n"
          ]
        }
      ]
    }
  ]
}