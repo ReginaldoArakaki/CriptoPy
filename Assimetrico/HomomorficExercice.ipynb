{
  "nbformat": 4,
  "nbformat_minor": 0,
  "metadata": {
    "colab": {
      "provenance": []
    },
    "kernelspec": {
      "name": "python3",
      "display_name": "Python 3"
    },
    "language_info": {
      "name": "python"
    }
  },
  "cells": [
    {
      "cell_type": "markdown",
      "source": [
        "**Homomorphic Property Of Unpadded RSA**\n",
        "\n",
        " Use (4.3) to multiply two RSA-encrypted numbers together and decrypt the result to verify the equation.\n",
        "\n",
        "Nielson, Seth James; Monson, Christopher K.. Practical Cryptography in Python: Learning Correct Cryptography by Example (p. 184). Apress. Edição do Kindle.\n",
        "\n"
      ],
      "metadata": {
        "id": "W2KrXD3T7wGO"
      }
    },
    {
      "cell_type": "code",
      "source": [
        "!apt install libmpc-dev\n",
        "!pip install gmpy2"
      ],
      "metadata": {
        "colab": {
          "base_uri": "https://localhost:8080/"
        },
        "id": "xG9Mm9HQ9kPd",
        "outputId": "83f14868-d34f-421d-c9dd-75872b48625d"
      },
      "execution_count": 1,
      "outputs": [
        {
          "output_type": "stream",
          "name": "stdout",
          "text": [
            "Reading package lists... Done\n",
            "Building dependency tree... Done\n",
            "Reading state information... Done\n",
            "The following additional packages will be installed:\n",
            "  libgmp-dev libgmpxx4ldbl libmpfr-dev\n",
            "Suggested packages:\n",
            "  gmp-doc libgmp10-doc libmpfr-doc\n",
            "The following NEW packages will be installed:\n",
            "  libgmp-dev libgmpxx4ldbl libmpc-dev libmpfr-dev\n",
            "0 upgraded, 4 newly installed, 0 to remove and 49 not upgraded.\n",
            "Need to get 678 kB of archives.\n",
            "After this operation, 3,273 kB of additional disk space will be used.\n",
            "Get:1 http://archive.ubuntu.com/ubuntu jammy/main amd64 libgmpxx4ldbl amd64 2:6.2.1+dfsg-3ubuntu1 [9,580 B]\n",
            "Get:2 http://archive.ubuntu.com/ubuntu jammy/main amd64 libgmp-dev amd64 2:6.2.1+dfsg-3ubuntu1 [337 kB]\n",
            "Get:3 http://archive.ubuntu.com/ubuntu jammy/main amd64 libmpfr-dev amd64 4.1.0-3build3 [271 kB]\n",
            "Get:4 http://archive.ubuntu.com/ubuntu jammy/main amd64 libmpc-dev amd64 1.2.1-2build1 [60.1 kB]\n",
            "Fetched 678 kB in 2s (384 kB/s)\n",
            "Selecting previously unselected package libgmpxx4ldbl:amd64.\n",
            "(Reading database ... 123630 files and directories currently installed.)\n",
            "Preparing to unpack .../libgmpxx4ldbl_2%3a6.2.1+dfsg-3ubuntu1_amd64.deb ...\n",
            "Unpacking libgmpxx4ldbl:amd64 (2:6.2.1+dfsg-3ubuntu1) ...\n",
            "Selecting previously unselected package libgmp-dev:amd64.\n",
            "Preparing to unpack .../libgmp-dev_2%3a6.2.1+dfsg-3ubuntu1_amd64.deb ...\n",
            "Unpacking libgmp-dev:amd64 (2:6.2.1+dfsg-3ubuntu1) ...\n",
            "Selecting previously unselected package libmpfr-dev:amd64.\n",
            "Preparing to unpack .../libmpfr-dev_4.1.0-3build3_amd64.deb ...\n",
            "Unpacking libmpfr-dev:amd64 (4.1.0-3build3) ...\n",
            "Selecting previously unselected package libmpc-dev:amd64.\n",
            "Preparing to unpack .../libmpc-dev_1.2.1-2build1_amd64.deb ...\n",
            "Unpacking libmpc-dev:amd64 (1.2.1-2build1) ...\n",
            "Setting up libgmpxx4ldbl:amd64 (2:6.2.1+dfsg-3ubuntu1) ...\n",
            "Setting up libgmp-dev:amd64 (2:6.2.1+dfsg-3ubuntu1) ...\n",
            "Setting up libmpfr-dev:amd64 (4.1.0-3build3) ...\n",
            "Setting up libmpc-dev:amd64 (1.2.1-2build1) ...\n",
            "Processing triggers for libc-bin (2.35-0ubuntu3.4) ...\n",
            "/sbin/ldconfig.real: /usr/local/lib/libur_loader.so.0 is not a symbolic link\n",
            "\n",
            "/sbin/ldconfig.real: /usr/local/lib/libtcm_debug.so.1 is not a symbolic link\n",
            "\n",
            "/sbin/ldconfig.real: /usr/local/lib/libtbbbind_2_5.so.3 is not a symbolic link\n",
            "\n",
            "/sbin/ldconfig.real: /usr/local/lib/libtbbmalloc_proxy.so.2 is not a symbolic link\n",
            "\n",
            "/sbin/ldconfig.real: /usr/local/lib/libur_adapter_opencl.so.0 is not a symbolic link\n",
            "\n",
            "/sbin/ldconfig.real: /usr/local/lib/libtbbbind_2_0.so.3 is not a symbolic link\n",
            "\n",
            "/sbin/ldconfig.real: /usr/local/lib/libtbbbind.so.3 is not a symbolic link\n",
            "\n",
            "/sbin/ldconfig.real: /usr/local/lib/libtbb.so.12 is not a symbolic link\n",
            "\n",
            "/sbin/ldconfig.real: /usr/local/lib/libtcm.so.1 is not a symbolic link\n",
            "\n",
            "/sbin/ldconfig.real: /usr/local/lib/libur_adapter_level_zero.so.0 is not a symbolic link\n",
            "\n",
            "/sbin/ldconfig.real: /usr/local/lib/libtbbmalloc.so.2 is not a symbolic link\n",
            "\n",
            "/sbin/ldconfig.real: /usr/local/lib/libhwloc.so.15 is not a symbolic link\n",
            "\n",
            "/sbin/ldconfig.real: /usr/local/lib/libumf.so.0 is not a symbolic link\n",
            "\n",
            "Collecting gmpy2\n",
            "  Downloading gmpy2-2.2.1-cp310-cp310-manylinux_2_17_x86_64.manylinux2014_x86_64.whl.metadata (2.8 kB)\n",
            "Downloading gmpy2-2.2.1-cp310-cp310-manylinux_2_17_x86_64.manylinux2014_x86_64.whl (1.7 MB)\n",
            "\u001b[2K   \u001b[90m━━━━━━━━━━━━━━━━━━━━━━━━━━━━━━━━━━━━━━━━\u001b[0m \u001b[32m1.7/1.7 MB\u001b[0m \u001b[31m16.4 MB/s\u001b[0m eta \u001b[36m0:00:00\u001b[0m\n",
            "\u001b[?25hInstalling collected packages: gmpy2\n",
            "Successfully installed gmpy2-2.2.1\n"
          ]
        }
      ]
    },
    {
      "cell_type": "code",
      "execution_count": 3,
      "metadata": {
        "colab": {
          "base_uri": "https://localhost:8080/"
        },
        "id": "xwTaMkGO7u4p",
        "outputId": "5bc7bd6f-3878-40bc-c410-70b55c95413c"
      },
      "outputs": [
        {
          "output_type": "stream",
          "name": "stdout",
          "text": [
            "5 x 10 = 50\n",
            "15049469392156715404551014881603261899607239081030525086546385244100463755598777645956547890581633922033288864774486850009329549555795696446791109682543004113259481232746558047192284931879814746473324668324352959103397700092148469273507222433365867086622841352093638092943133553809978385691802492814682153996242648331650254483568471481209332050984486872192853372021357091322330214113782218936510232191764569846600187222647673319972216199331829838894684120668430587686958376072060587602129941002785691695164767291153838231901039753276088020747586627333193753911583361970571082280016638291570410480161154074844025803572 x 12318784131219502787664587455410737625556685950414090923307684568165751345721689169813230016326647410679829767263579871867809649115643838690195831367168888206038449533303105542853582409768922186227425302660131360060050069348757411150562447812813154249864712813428397503067723093948798561977004587117783281364843905842045242248875076870376383379229391115587048582807753466806243724381605110537964030267160283715817223537383718189628533556239460820837729475281534884488416966373016448463228400955795036807805030278294502024017046087651777186398488753616376370626961959856520163825192761366174333052749814180909438912675 = 22588818736448687873426471191187973096251559422301778273035468045896855441387484196676191868205372500935143226343515273654676740245590250240736291990961176625501320518635678413966183439748382718773933876349926518437139568290432143222385092028342007328640097957032460218339117595271867060823884868883360120186898611769144582886471886235324720456626151760935224998678191969975822316309123532657632457120047192507849379596876096997724734475836586898195252342410566783240693020770994834764484934754757699822477588487042326256202858171430744961945976784319391132973950494151981535346352742624256965367387791240091729453772\n"
          ]
        }
      ],
      "source": [
        "# FOR TRAINING USE ONLY! DO NOT USE THIS FOR REAL CRYPTOGRAPHY\n",
        "import gmpy2, sys, binascii, string, time\n",
        "from cryptography.hazmat.backends import default_backend\n",
        "from cryptography.hazmat.primitives import serialization\n",
        "from cryptography.hazmat.primitives.asymmetric import rsa\n",
        "\n",
        "#### DANGER ####\n",
        "# The following RSA encryption and decryption is 10\n",
        "# completely unsafe and terribly broken. DO NOT USE 11\n",
        "# for anything other than the practice exercise\n",
        "################\n",
        "def simple_rsa_encrypt(m, publickey):\n",
        "    numbers = publickey.public_numbers()\n",
        "    return gmpy2.powmod(m, numbers.e, numbers.n)\n",
        "\n",
        "def simple_rsa_decrypt(c, privatekey):\n",
        "    numbers = privatekey.private_numbers()\n",
        "    return gmpy2.powmod(c, numbers.d, numbers.public_numbers.n)\n",
        "\n",
        "private_key = rsa.generate_private_key(\n",
        "              public_exponent=65537,\n",
        "              key_size=2048,\n",
        "              backend=default_backend()\n",
        "              )\n",
        "public_key = private_key.public_key()\n",
        "n = public_key.public_numbers().n\n",
        "a = 5\n",
        "b = 10\n",
        "encrypted_a = simple_rsa_encrypt(a, public_key)\n",
        "encrypted_b = simple_rsa_encrypt(b, public_key)\n",
        "encrypted_product = (encrypted_a * encrypted_b) % n\n",
        "product = simple_rsa_decrypt(encrypted_product, private_key)\n",
        "\n",
        "print(\"{} x {} = {}\".format(a,b, product))\n",
        "print(\"{} x {} = {}\".format(encrypted_a,encrypted_b, encrypted_product))\n",
        "\n",
        "# Nielson, Seth James; Monson, Christopher K..\n",
        "# Practical Cryptography in Python: Learning Correct Cryptography by Example (p. 185).\n",
        "# Apress. Edição do Kindle.\n"
      ]
    }
  ]
}