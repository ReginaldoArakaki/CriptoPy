{
  "nbformat": 4,
  "nbformat_minor": 0,
  "metadata": {
    "colab": {
      "provenance": []
    },
    "kernelspec": {
      "name": "python3",
      "display_name": "Python 3"
    },
    "language_info": {
      "name": "python"
    }
  },
  "cells": [
    {
      "cell_type": "code",
      "source": [
        "# Nielson, Seth James; Monson, Christopher K..\n",
        "# Practical Cryptography in Python: Learning Correct Cryptography by Example (p. 23).\n",
        "# Apress. Edição do Kindle.\n",
        "#\n",
        "# Cifra de Cesar\n",
        "# 1. Key size\n",
        "# 2. Block size\n",
        "# 3. Preserved structure (structure that survives encoding)\n",
        "# 4. Brute-force attacks"
      ],
      "metadata": {
        "id": "AC7LVylvT0GV"
      },
      "execution_count": 4,
      "outputs": []
    },
    {
      "cell_type": "code",
      "execution_count": 5,
      "metadata": {
        "colab": {
          "base_uri": "https://localhost:8080/"
        },
        "id": "NYWCz57ZZNbS",
        "outputId": "da36f4b7-eea6-4f89-fccb-6df784eccf58"
      },
      "outputs": [
        {
          "output_type": "execute_result",
          "data": {
            "text/plain": [
              "b'gAAAAABnS5xh0xnkuQL3eoG0zt-TqTyUoUA3yCTJ4ne_TkzxhE-8Hy3q7RPFirvOyobuQn04lrc3jM-mpWj0yD1WNw0O2F-JMg=='"
            ]
          },
          "metadata": {},
          "execution_count": 5
        }
      ],
      "source": [
        "from cryptography.fernet import Fernet\n",
        "key = Fernet.generate_key()\n",
        "f = Fernet(key)\n",
        "token = f.encrypt(b\"Reginaldo\")\n",
        "token"
      ]
    },
    {
      "cell_type": "code",
      "source": [
        "f.decrypt(token)\n"
      ],
      "metadata": {
        "colab": {
          "base_uri": "https://localhost:8080/"
        },
        "id": "ZaPepK-NZyp1",
        "outputId": "b9a5d0bc-5743-41ba-83ed-77140ed9b97d"
      },
      "execution_count": 6,
      "outputs": [
        {
          "output_type": "execute_result",
          "data": {
            "text/plain": [
              "b'Reginaldo'"
            ]
          },
          "metadata": {},
          "execution_count": 6
        }
      ]
    },
    {
      "cell_type": "code",
      "source": [],
      "metadata": {
        "id": "r4O8l3p2Tj5q"
      },
      "execution_count": null,
      "outputs": []
    },
    {
      "cell_type": "code",
      "source": [
        "# Partial Listing: Some Assembly Required\n",
        "import string\n",
        "def create_shift_substitutions(n):\n",
        "  encoding = {}\n",
        "  decoding = {}\n",
        "  alphabet_size = len(string.ascii_uppercase)\n",
        "  for i in range(alphabet_size):\n",
        "    letter       = string.ascii_uppercase[i]\n",
        "    subst_letter = string.ascii_uppercase[(i+n)%alphabet_size]\n",
        "    encoding[letter]       = subst_letter\n",
        "    decoding[subst_letter] = letter\n",
        "  return encoding, decoding\n",
        "\n"
      ],
      "metadata": {
        "id": "rQnXwtNAbkma"
      },
      "execution_count": 8,
      "outputs": []
    },
    {
      "cell_type": "code",
      "source": [
        "# Partial Listing: Some Assembly Required\n",
        "def encode(message, subst):\n",
        "    cipher = \"\"\n",
        "    for letter in message:\n",
        "      if letter in subst:\n",
        "         cipher += subst[letter]\n",
        "      else:\n",
        "         cipher += letter\n",
        "    return cipher\n",
        "\n",
        "def decode(message, subst):\n",
        "    return encode(message, subst)"
      ],
      "metadata": {
        "id": "zGRlIQ9Pc02p"
      },
      "execution_count": 10,
      "outputs": []
    },
    {
      "cell_type": "code",
      "source": [
        "# Partial Listing: Some Assembly Required 2 3\n",
        "def printable_substitution(subst):\n",
        "    # Sort by source character so things are alphabetized.\n",
        "    mapping = sorted(subst.items())\n",
        "    # Then create two lines: source above, target beneath.\n",
        "    alphabet_line = \" \".join(letter for letter, _ in mapping)\n",
        "    cipher_line = \" \".join(subst_letter for _, subst_letter in mapping)\n",
        "    return \"{}\\n{}\".format(alphabet_line, cipher_line)\n"
      ],
      "metadata": {
        "id": "kjnhDRELedqQ"
      },
      "execution_count": 11,
      "outputs": []
    },
    {
      "cell_type": "code",
      "source": [
        "# Partial Listing: Some Assembly Required\n",
        "if __name__ == \"__main__\":\n",
        "   n = 1\n",
        "   encoding, decoding = create_shift_substitutions(n)\n",
        "   while True:\n",
        "        print(\"\\nShift Encoder Decoder\")\n",
        "        print(\"--------------------\")\n",
        "        print(\"\\tCurrent Shift: {}\\n\".format(n))\n",
        "        print(\"\\t1. Print Encoding/Decoding Tables.\")\n",
        "        print(\"\\t2. Encode Message.\")\n",
        "        print(\"\\t3. Decode Message.\")\n",
        "        print(\"\\t4. Change Shift\")\n",
        "        print(\"\\t5. Quit.\\n\")\n",
        "        choice = input(\">> \")\n",
        "        print()\n",
        "        if choice == '1':\n",
        "           print(\"Encoding Table:\")\n",
        "           print(printable_substitution(encoding))\n",
        "           print(\"Decoding Table:\")\n",
        "           print(printable_substitution(decoding))\n",
        "\n",
        "        elif choice == '2':\n",
        "           message = input(\"\\nMessage to encode: \")\n",
        "           print(\"Encoded Message: {}\".format(\n",
        "                  encode(message.upper(), encoding)))\n",
        "\n",
        "        elif choice == '3':\n",
        "           message = input(\"\\nMessage to decode: \")\n",
        "           print(\"Decoded Message: {}\".format(\n",
        "                  decode(message.upper(), decoding)))\n",
        "\n",
        "        elif choice == '4':\n",
        "           new_shift = input(\"\\nNew shift (currently {}): \".format(n))\n",
        "           try:\n",
        "               new_shift = int(new_shift)\n",
        "               if new_shift < 1:\n",
        "                  raise Exception(\"Shift must be greater than 0\")\n",
        "           except ValueError:\n",
        "               print(\"Shift {} is not a valid number.\".format(new_shift))\n",
        "           else:\n",
        "               n = new_shift\n",
        "               encoding, decoding = create_shift_substitutions(n)\n",
        "        elif choice == '5':\n",
        "            print(\"Terminating. This program will self destruct in 5 seconds .\\n\")\n",
        "            break\n",
        "\n",
        "        else:\n",
        "            print(\"Unknown option {}.\".format(choice))\n",
        "\n",
        "            print(\"Unknown option {}.\".format(choice))\n",
        "\n",
        "\n",
        "\n"
      ],
      "metadata": {
        "colab": {
          "base_uri": "https://localhost:8080/",
          "height": 547
        },
        "id": "2ylppgu7e3AJ",
        "outputId": "56952a9b-b784-46d4-a101-acc1a3119ea8"
      },
      "execution_count": 14,
      "outputs": [
        {
          "output_type": "stream",
          "name": "stdout",
          "text": [
            "\n",
            "Shift Encoder Decoder\n",
            "--------------------\n",
            "\tCurrent Shift: 1\n",
            "\n",
            "\t1. Print Encoding/Decoding Tables.\n",
            "\t2. Encode Message.\n",
            "\t3. Decode Message.\n",
            "\t4. Change Shift\n",
            "\t5. Quit.\n",
            "\n"
          ]
        },
        {
          "output_type": "error",
          "ename": "KeyboardInterrupt",
          "evalue": "Interrupted by user",
          "traceback": [
            "\u001b[0;31m---------------------------------------------------------------------------\u001b[0m",
            "\u001b[0;31mKeyboardInterrupt\u001b[0m                         Traceback (most recent call last)",
            "\u001b[0;32m<ipython-input-14-008bf5717b2d>\u001b[0m in \u001b[0;36m<cell line: 2>\u001b[0;34m()\u001b[0m\n\u001b[1;32m     12\u001b[0m         \u001b[0mprint\u001b[0m\u001b[0;34m(\u001b[0m\u001b[0;34m\"\\t4. Change Shift\"\u001b[0m\u001b[0;34m)\u001b[0m\u001b[0;34m\u001b[0m\u001b[0;34m\u001b[0m\u001b[0m\n\u001b[1;32m     13\u001b[0m         \u001b[0mprint\u001b[0m\u001b[0;34m(\u001b[0m\u001b[0;34m\"\\t5. Quit.\\n\"\u001b[0m\u001b[0;34m)\u001b[0m\u001b[0;34m\u001b[0m\u001b[0;34m\u001b[0m\u001b[0m\n\u001b[0;32m---> 14\u001b[0;31m         \u001b[0mchoice\u001b[0m \u001b[0;34m=\u001b[0m \u001b[0minput\u001b[0m\u001b[0;34m(\u001b[0m\u001b[0;34m\">> \"\u001b[0m\u001b[0;34m)\u001b[0m\u001b[0;34m\u001b[0m\u001b[0;34m\u001b[0m\u001b[0m\n\u001b[0m\u001b[1;32m     15\u001b[0m         \u001b[0mprint\u001b[0m\u001b[0;34m(\u001b[0m\u001b[0;34m)\u001b[0m\u001b[0;34m\u001b[0m\u001b[0;34m\u001b[0m\u001b[0m\n\u001b[1;32m     16\u001b[0m         \u001b[0;32mif\u001b[0m \u001b[0mchoice\u001b[0m \u001b[0;34m==\u001b[0m \u001b[0;34m'1'\u001b[0m\u001b[0;34m:\u001b[0m\u001b[0;34m\u001b[0m\u001b[0;34m\u001b[0m\u001b[0m\n",
            "\u001b[0;32m/usr/local/lib/python3.10/dist-packages/ipykernel/kernelbase.py\u001b[0m in \u001b[0;36mraw_input\u001b[0;34m(self, prompt)\u001b[0m\n\u001b[1;32m    849\u001b[0m                 \u001b[0;34m\"raw_input was called, but this frontend does not support input requests.\"\u001b[0m\u001b[0;34m\u001b[0m\u001b[0;34m\u001b[0m\u001b[0m\n\u001b[1;32m    850\u001b[0m             )\n\u001b[0;32m--> 851\u001b[0;31m         return self._input_request(str(prompt),\n\u001b[0m\u001b[1;32m    852\u001b[0m             \u001b[0mself\u001b[0m\u001b[0;34m.\u001b[0m\u001b[0m_parent_ident\u001b[0m\u001b[0;34m,\u001b[0m\u001b[0;34m\u001b[0m\u001b[0;34m\u001b[0m\u001b[0m\n\u001b[1;32m    853\u001b[0m             \u001b[0mself\u001b[0m\u001b[0;34m.\u001b[0m\u001b[0m_parent_header\u001b[0m\u001b[0;34m,\u001b[0m\u001b[0;34m\u001b[0m\u001b[0;34m\u001b[0m\u001b[0m\n",
            "\u001b[0;32m/usr/local/lib/python3.10/dist-packages/ipykernel/kernelbase.py\u001b[0m in \u001b[0;36m_input_request\u001b[0;34m(self, prompt, ident, parent, password)\u001b[0m\n\u001b[1;32m    893\u001b[0m             \u001b[0;32mexcept\u001b[0m \u001b[0mKeyboardInterrupt\u001b[0m\u001b[0;34m:\u001b[0m\u001b[0;34m\u001b[0m\u001b[0;34m\u001b[0m\u001b[0m\n\u001b[1;32m    894\u001b[0m                 \u001b[0;31m# re-raise KeyboardInterrupt, to truncate traceback\u001b[0m\u001b[0;34m\u001b[0m\u001b[0;34m\u001b[0m\u001b[0m\n\u001b[0;32m--> 895\u001b[0;31m                 \u001b[0;32mraise\u001b[0m \u001b[0mKeyboardInterrupt\u001b[0m\u001b[0;34m(\u001b[0m\u001b[0;34m\"Interrupted by user\"\u001b[0m\u001b[0;34m)\u001b[0m \u001b[0;32mfrom\u001b[0m \u001b[0;32mNone\u001b[0m\u001b[0;34m\u001b[0m\u001b[0;34m\u001b[0m\u001b[0m\n\u001b[0m\u001b[1;32m    896\u001b[0m             \u001b[0;32mexcept\u001b[0m \u001b[0mException\u001b[0m \u001b[0;32mas\u001b[0m \u001b[0me\u001b[0m\u001b[0;34m:\u001b[0m\u001b[0;34m\u001b[0m\u001b[0;34m\u001b[0m\u001b[0m\n\u001b[1;32m    897\u001b[0m                 \u001b[0mself\u001b[0m\u001b[0;34m.\u001b[0m\u001b[0mlog\u001b[0m\u001b[0;34m.\u001b[0m\u001b[0mwarning\u001b[0m\u001b[0;34m(\u001b[0m\u001b[0;34m\"Invalid Message:\"\u001b[0m\u001b[0;34m,\u001b[0m \u001b[0mexc_info\u001b[0m\u001b[0;34m=\u001b[0m\u001b[0;32mTrue\u001b[0m\u001b[0;34m)\u001b[0m\u001b[0;34m\u001b[0m\u001b[0;34m\u001b[0m\u001b[0m\n",
            "\u001b[0;31mKeyboardInterrupt\u001b[0m: Interrupted by user"
          ]
        }
      ]
    }
  ]
}