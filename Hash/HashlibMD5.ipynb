{
  "nbformat": 4,
  "nbformat_minor": 0,
  "metadata": {
    "colab": {
      "provenance": []
    },
    "kernelspec": {
      "name": "python3",
      "display_name": "Python 3"
    },
    "language_info": {
      "name": "python"
    }
  },
  "cells": [
    {
      "cell_type": "code",
      "execution_count": null,
      "metadata": {
        "id": "6Er_w9cVkYlo"
      },
      "outputs": [],
      "source": [
        "# Nielson, Seth James; Monson, Christopher K..\n",
        "# Practical Cryptography in Python: Learning Correct Cryptography by Example (p. 23).\n",
        "# Apress. Edição do Kindle.\n",
        "#\n",
        "# Cifra de Cesar\n",
        "# 1. Key size\n",
        "# 2. Block size\n",
        "# 3. Preserved structure (structure that survives encoding)\n",
        "# 4. Brute-force attacks"
      ]
    },
    {
      "cell_type": "code",
      "source": [
        "import hashlib\n",
        "md5hasher = hashlib.md5()\n",
        "md5hasher.hexdigest()"
      ],
      "metadata": {
        "colab": {
          "base_uri": "https://localhost:8080/",
          "height": 35
        },
        "id": "tjevDnZ1kfvM",
        "outputId": "1a7b461b-5830-4966-c34a-23cc94805620"
      },
      "execution_count": 5,
      "outputs": [
        {
          "output_type": "execute_result",
          "data": {
            "text/plain": [
              "'d41d8cd98f00b204e9800998ecf8427e'"
            ],
            "application/vnd.google.colaboratory.intrinsic+json": {
              "type": "string"
            }
          },
          "metadata": {},
          "execution_count": 5
        }
      ]
    },
    {
      "cell_type": "code",
      "source": [],
      "metadata": {
        "id": "0bxe_rlxlUZv"
      },
      "execution_count": null,
      "outputs": []
    },
    {
      "cell_type": "code",
      "source": [
        "import hashlib\n",
        "md5hasher = hashlib.md5()\n",
        "#print (md5hasher.hexdigest())\n",
        "md5hasher.update(b'a')\n",
        "#print (md5hasher.hexdigest())\n",
        "md5hasher.update(b'l')\n",
        "md5hasher.update(b'i')\n",
        "md5hasher.update(b'c')\n",
        "md5hasher.update(b'e')\n",
        "'''\n",
        "#print (md5hasher.hexdigest())\n",
        "\n",
        "md5hasher.update(b'l')\n",
        "\n",
        "md5hasher.update(b'i')\n",
        "md5hasher.update(b'c')\n",
        "md5hasher.update(b'e')\n",
        "\n",
        "#print (md5hasher.hexdigest())\n",
        "md5hasher.update(b'cob')\n",
        "#print (md5hasher.hexdigest())\n",
        "md5hasher.update(b'a')\n",
        "#print (md5hasher.hexdigest())\n",
        "md5hasher.update(b'aaaaaaaaaa')\n",
        "#print (md5hasher.hexdigest())\n",
        "md5hasher.update(b'a'*100000)\n",
        "#print (md5hasher.hexdigest())\n",
        "'''\n",
        "md5hasher.hexdigest()"
      ],
      "metadata": {
        "colab": {
          "base_uri": "https://localhost:8080/",
          "height": 35
        },
        "outputId": "9f80539b-a0b5-4d54-a881-aa8c534814db",
        "id": "Cpq486AjlU4D"
      },
      "execution_count": 50,
      "outputs": [
        {
          "output_type": "execute_result",
          "data": {
            "text/plain": [
              "'6384e2b2184bcbf58eccf10ca7a6563c'"
            ],
            "application/vnd.google.colaboratory.intrinsic+json": {
              "type": "string"
            }
          },
          "metadata": {},
          "execution_count": 50
        }
      ]
    },
    {
      "cell_type": "code",
      "source": [
        "import hashlib\n",
        "md5hasher = hashlib.md5()\n",
        "#print (md5hasher.hexdigest())\n",
        "md5hasher.update(b'Reginaldo')\n",
        "md5hasher.hexdigest()\n",
        "md5hasher."
      ],
      "metadata": {
        "colab": {
          "base_uri": "https://localhost:8080/",
          "height": 35
        },
        "id": "QhVAawBEN6Oe",
        "outputId": "67b177e3-97d1-4c63-d0c6-433572a2ed5d"
      },
      "execution_count": 2,
      "outputs": [
        {
          "output_type": "execute_result",
          "data": {
            "text/plain": [
              "'714715b936b26dafb69d260db827fa14'"
            ],
            "application/vnd.google.colaboratory.intrinsic+json": {
              "type": "string"
            }
          },
          "metadata": {},
          "execution_count": 2
        }
      ]
    }
  ]
}